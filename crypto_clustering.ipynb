{
 "cells": [
  {
   "cell_type": "markdown",
   "metadata": {},
   "source": [
    "# Clustering Crypto"
   ]
  },
  {
   "cell_type": "code",
   "execution_count": 138,
   "metadata": {},
   "outputs": [],
   "source": [
    "# Initial imports\n",
    "import requests\n",
    "import pandas as pd\n",
    "import matplotlib.pyplot as plt\n",
    "import hvplot.pandas\n",
    "import plotly.express as px\n",
    "from sklearn.preprocessing import StandardScaler, MinMaxScaler\n",
    "from sklearn.decomposition import PCA\n",
    "from sklearn.cluster import KMeans\n",
    "from pathlib import Path"
   ]
  },
  {
   "cell_type": "markdown",
   "metadata": {},
   "source": [
    "### Fetching Cryptocurrency Data"
   ]
  },
  {
   "cell_type": "code",
   "execution_count": 139,
   "metadata": {},
   "outputs": [],
   "source": [
    "# Use the following endpoint to fetch json data\n",
    "url = \"https://min-api.cryptocompare.com/data/all/coinlist\""
   ]
  },
  {
   "cell_type": "code",
   "execution_count": 140,
   "metadata": {},
   "outputs": [],
   "source": [
    "# Create a DataFrame \n",
    "# HINT: You will need to use the 'Data' key from the json response, then transpose the DataFrame."
   ]
  },
  {
   "cell_type": "code",
   "execution_count": 141,
   "metadata": {},
   "outputs": [
    {
     "output_type": "execute_result",
     "data": {
      "text/plain": [
       "  Unnamed: 0   CoinName Algorithm  IsTrading ProofType  TotalCoinsMined  \\\n",
       "0         42    42 Coin    Scrypt       True   PoW/PoS     4.199995e+01   \n",
       "1        365    365Coin       X11       True   PoW/PoS              NaN   \n",
       "2        404    404Coin    Scrypt       True   PoW/PoS     1.055185e+09   \n",
       "3        611  SixEleven   SHA-256       True       PoW              NaN   \n",
       "4        808        808   SHA-256       True   PoW/PoS     0.000000e+00   \n",
       "5       1337  EliteCoin       X13       True   PoW/PoS     2.927942e+10   \n",
       "6       2015  2015 coin       X11       True   PoW/PoS              NaN   \n",
       "7        BTC    Bitcoin   SHA-256       True       PoW     1.792718e+07   \n",
       "8        ETH   Ethereum    Ethash       True       PoW     1.076842e+08   \n",
       "9        LTC   Litecoin    Scrypt       True       PoW     6.303924e+07   \n",
       "\n",
       "  TotalCoinSupply  \n",
       "0              42  \n",
       "1      2300000000  \n",
       "2       532000000  \n",
       "3          611000  \n",
       "4               0  \n",
       "5    314159265359  \n",
       "6               0  \n",
       "7        21000000  \n",
       "8               0  \n",
       "9        84000000  "
      ],
      "text/html": "<div>\n<style scoped>\n    .dataframe tbody tr th:only-of-type {\n        vertical-align: middle;\n    }\n\n    .dataframe tbody tr th {\n        vertical-align: top;\n    }\n\n    .dataframe thead th {\n        text-align: right;\n    }\n</style>\n<table border=\"1\" class=\"dataframe\">\n  <thead>\n    <tr style=\"text-align: right;\">\n      <th></th>\n      <th>Unnamed: 0</th>\n      <th>CoinName</th>\n      <th>Algorithm</th>\n      <th>IsTrading</th>\n      <th>ProofType</th>\n      <th>TotalCoinsMined</th>\n      <th>TotalCoinSupply</th>\n    </tr>\n  </thead>\n  <tbody>\n    <tr>\n      <th>0</th>\n      <td>42</td>\n      <td>42 Coin</td>\n      <td>Scrypt</td>\n      <td>True</td>\n      <td>PoW/PoS</td>\n      <td>4.199995e+01</td>\n      <td>42</td>\n    </tr>\n    <tr>\n      <th>1</th>\n      <td>365</td>\n      <td>365Coin</td>\n      <td>X11</td>\n      <td>True</td>\n      <td>PoW/PoS</td>\n      <td>NaN</td>\n      <td>2300000000</td>\n    </tr>\n    <tr>\n      <th>2</th>\n      <td>404</td>\n      <td>404Coin</td>\n      <td>Scrypt</td>\n      <td>True</td>\n      <td>PoW/PoS</td>\n      <td>1.055185e+09</td>\n      <td>532000000</td>\n    </tr>\n    <tr>\n      <th>3</th>\n      <td>611</td>\n      <td>SixEleven</td>\n      <td>SHA-256</td>\n      <td>True</td>\n      <td>PoW</td>\n      <td>NaN</td>\n      <td>611000</td>\n    </tr>\n    <tr>\n      <th>4</th>\n      <td>808</td>\n      <td>808</td>\n      <td>SHA-256</td>\n      <td>True</td>\n      <td>PoW/PoS</td>\n      <td>0.000000e+00</td>\n      <td>0</td>\n    </tr>\n    <tr>\n      <th>5</th>\n      <td>1337</td>\n      <td>EliteCoin</td>\n      <td>X13</td>\n      <td>True</td>\n      <td>PoW/PoS</td>\n      <td>2.927942e+10</td>\n      <td>314159265359</td>\n    </tr>\n    <tr>\n      <th>6</th>\n      <td>2015</td>\n      <td>2015 coin</td>\n      <td>X11</td>\n      <td>True</td>\n      <td>PoW/PoS</td>\n      <td>NaN</td>\n      <td>0</td>\n    </tr>\n    <tr>\n      <th>7</th>\n      <td>BTC</td>\n      <td>Bitcoin</td>\n      <td>SHA-256</td>\n      <td>True</td>\n      <td>PoW</td>\n      <td>1.792718e+07</td>\n      <td>21000000</td>\n    </tr>\n    <tr>\n      <th>8</th>\n      <td>ETH</td>\n      <td>Ethereum</td>\n      <td>Ethash</td>\n      <td>True</td>\n      <td>PoW</td>\n      <td>1.076842e+08</td>\n      <td>0</td>\n    </tr>\n    <tr>\n      <th>9</th>\n      <td>LTC</td>\n      <td>Litecoin</td>\n      <td>Scrypt</td>\n      <td>True</td>\n      <td>PoW</td>\n      <td>6.303924e+07</td>\n      <td>84000000</td>\n    </tr>\n  </tbody>\n</table>\n</div>"
     },
     "metadata": {},
     "execution_count": 141
    }
   ],
   "source": [
    "# Alternatively, use the provided csv file:\n",
    "file_path = Path('../Resources/crypto_data.csv')\n",
    "\n",
    "# Create a DataFrame\n",
    "crypto_df = pd.read_csv(file_path)\n",
    "crypto_df.head(10)"
   ]
  },
  {
   "cell_type": "markdown",
   "metadata": {},
   "source": [
    "### Data Preprocessing"
   ]
  },
  {
   "cell_type": "code",
   "execution_count": 142,
   "metadata": {},
   "outputs": [],
   "source": [
    "# Keep only necessary columns:\n",
    "# 'CoinName','Algorithm','IsTrading','ProofType','TotalCoinsMined','TotalCoinSupply'\n",
    "crypto_data =  crypto_df.drop(columns=['Unnamed: 0'])"
   ]
  },
  {
   "cell_type": "code",
   "execution_count": 143,
   "metadata": {},
   "outputs": [],
   "source": [
    "# Keep only cryptocurrencies that are trading\n",
    "crypto_data = crypto_data.loc[crypto_data['IsTrading'] == True]"
   ]
  },
  {
   "cell_type": "code",
   "execution_count": 144,
   "metadata": {},
   "outputs": [],
   "source": [
    "# Keep only cryptocurrencies with a working algorithm\n",
    "crypto_data = crypto_data.loc[crypto_data['Algorithm'] != 'N/A']"
   ]
  },
  {
   "cell_type": "code",
   "execution_count": 145,
   "metadata": {},
   "outputs": [],
   "source": [
    "# Remove the \"IsTrading\" column\n",
    "crypto_data = crypto_data.drop(columns='IsTrading')"
   ]
  },
  {
   "cell_type": "code",
   "execution_count": 146,
   "metadata": {},
   "outputs": [],
   "source": [
    "# Remove rows with at least 1 null value\n",
    "crypto_data = crypto_data.dropna()"
   ]
  },
  {
   "cell_type": "code",
   "execution_count": 147,
   "metadata": {},
   "outputs": [],
   "source": [
    "# Remove rows with cryptocurrencies having no coins mined\n",
    "crypto_data = crypto_data[crypto_data['TotalCoinsMined']!=0]"
   ]
  },
  {
   "cell_type": "code",
   "execution_count": 148,
   "metadata": {},
   "outputs": [],
   "source": [
    "# Drop rows where there are 'N/A' text values\n",
    "crypto_data = crypto_data.loc[crypto_data['TotalCoinSupply'] != 'N/A']\n",
    "crypto_data = crypto_data.loc[crypto_data['ProofType'] != 'N/A']"
   ]
  },
  {
   "cell_type": "code",
   "execution_count": 149,
   "metadata": {},
   "outputs": [],
   "source": [
    "# Store the 'CoinName'column in its own DataFrame prior to dropping it from crypto_df\n",
    "all_crypto_data = crypto_data"
   ]
  },
  {
   "cell_type": "code",
   "execution_count": 150,
   "metadata": {},
   "outputs": [
    {
     "output_type": "execute_result",
     "data": {
      "text/plain": [
       "         Algorithm ProofType  TotalCoinsMined TotalCoinSupply\n",
       "0           Scrypt   PoW/PoS     4.199995e+01              42\n",
       "2           Scrypt   PoW/PoS     1.055185e+09       532000000\n",
       "5              X13   PoW/PoS     2.927942e+10    314159265359\n",
       "7          SHA-256       PoW     1.792718e+07        21000000\n",
       "8           Ethash       PoW     1.076842e+08               0\n",
       "9           Scrypt       PoW     6.303924e+07        84000000\n",
       "10             X11   PoW/PoS     9.031294e+06        22000000\n",
       "11  CryptoNight-V7       PoW     1.720114e+07               0\n",
       "12          Ethash       PoW     1.133597e+08       210000000\n",
       "13        Equihash       PoW     7.383056e+06        21000000"
      ],
      "text/html": "<div>\n<style scoped>\n    .dataframe tbody tr th:only-of-type {\n        vertical-align: middle;\n    }\n\n    .dataframe tbody tr th {\n        vertical-align: top;\n    }\n\n    .dataframe thead th {\n        text-align: right;\n    }\n</style>\n<table border=\"1\" class=\"dataframe\">\n  <thead>\n    <tr style=\"text-align: right;\">\n      <th></th>\n      <th>Algorithm</th>\n      <th>ProofType</th>\n      <th>TotalCoinsMined</th>\n      <th>TotalCoinSupply</th>\n    </tr>\n  </thead>\n  <tbody>\n    <tr>\n      <th>0</th>\n      <td>Scrypt</td>\n      <td>PoW/PoS</td>\n      <td>4.199995e+01</td>\n      <td>42</td>\n    </tr>\n    <tr>\n      <th>2</th>\n      <td>Scrypt</td>\n      <td>PoW/PoS</td>\n      <td>1.055185e+09</td>\n      <td>532000000</td>\n    </tr>\n    <tr>\n      <th>5</th>\n      <td>X13</td>\n      <td>PoW/PoS</td>\n      <td>2.927942e+10</td>\n      <td>314159265359</td>\n    </tr>\n    <tr>\n      <th>7</th>\n      <td>SHA-256</td>\n      <td>PoW</td>\n      <td>1.792718e+07</td>\n      <td>21000000</td>\n    </tr>\n    <tr>\n      <th>8</th>\n      <td>Ethash</td>\n      <td>PoW</td>\n      <td>1.076842e+08</td>\n      <td>0</td>\n    </tr>\n    <tr>\n      <th>9</th>\n      <td>Scrypt</td>\n      <td>PoW</td>\n      <td>6.303924e+07</td>\n      <td>84000000</td>\n    </tr>\n    <tr>\n      <th>10</th>\n      <td>X11</td>\n      <td>PoW/PoS</td>\n      <td>9.031294e+06</td>\n      <td>22000000</td>\n    </tr>\n    <tr>\n      <th>11</th>\n      <td>CryptoNight-V7</td>\n      <td>PoW</td>\n      <td>1.720114e+07</td>\n      <td>0</td>\n    </tr>\n    <tr>\n      <th>12</th>\n      <td>Ethash</td>\n      <td>PoW</td>\n      <td>1.133597e+08</td>\n      <td>210000000</td>\n    </tr>\n    <tr>\n      <th>13</th>\n      <td>Equihash</td>\n      <td>PoW</td>\n      <td>7.383056e+06</td>\n      <td>21000000</td>\n    </tr>\n  </tbody>\n</table>\n</div>"
     },
     "metadata": {},
     "execution_count": 150
    }
   ],
   "source": [
    "# Drop the 'CoinName' column since it's not going to be used on the clustering algorithm\n",
    "crypto_data = crypto_data.drop(columns='CoinName')\n",
    "crypto_data.head(10)"
   ]
  },
  {
   "cell_type": "code",
   "execution_count": 151,
   "metadata": {},
   "outputs": [],
   "source": [
    "# Create dummy variables for text features\n",
    "crypto_dummy = pd.get_dummies(data=crypto_data, columns=['Algorithm', 'ProofType'])"
   ]
  },
  {
   "cell_type": "code",
   "execution_count": 152,
   "metadata": {},
   "outputs": [
    {
     "output_type": "execute_result",
     "data": {
      "text/plain": [
       "array([[-0.11674788, -0.15286468, -0.0433555 , ..., -0.0433555 ,\n",
       "        -0.0433555 , -0.0433555 ],\n",
       "       [-0.09358885, -0.14499604, -0.0433555 , ..., -0.0433555 ,\n",
       "        -0.0433555 , -0.0433555 ],\n",
       "       [ 0.52587231,  4.4937636 , -0.0433555 , ..., -0.0433555 ,\n",
       "        -0.0433555 , -0.0433555 ],\n",
       "       ...,\n",
       "       [-0.09523411, -0.13215444, -0.0433555 , ..., -0.0433555 ,\n",
       "        -0.0433555 , -0.0433555 ],\n",
       "       [-0.11658774, -0.15255408, -0.0433555 , ..., -0.0433555 ,\n",
       "        -0.0433555 , -0.0433555 ],\n",
       "       [-0.11674507, -0.15284989, -0.0433555 , ..., -0.0433555 ,\n",
       "        -0.0433555 , -0.0433555 ]])"
      ]
     },
     "metadata": {},
     "execution_count": 152
    }
   ],
   "source": [
    "# Standardize data\n",
    "crypto_scaled = StandardScaler().fit_transform(crypto_dummy)\n",
    "crypto_scaled"
   ]
  },
  {
   "cell_type": "markdown",
   "metadata": {},
   "source": [
    "### Reducing Dimensions Using PCA"
   ]
  },
  {
   "cell_type": "code",
   "execution_count": 153,
   "metadata": {},
   "outputs": [],
   "source": [
    "# Use PCA to reduce dimensions to 3 principal components\n",
    "pca = PCA(n_components=3)\n",
    "crypto_pca = pca.fit_transform(crypto_scaled)"
   ]
  },
  {
   "cell_type": "code",
   "execution_count": 154,
   "metadata": {},
   "outputs": [
    {
     "output_type": "execute_result",
     "data": {
      "text/plain": [
       "       PC 1      PC 2      PC 3\n",
       "0 -0.343822  1.015453 -0.585893\n",
       "2 -0.327150  1.015500 -0.586407\n",
       "5  2.302348  1.625255 -0.637253\n",
       "7 -0.139098 -1.276245  0.196302\n",
       "8 -0.147640 -1.984634  0.407843"
      ],
      "text/html": "<div>\n<style scoped>\n    .dataframe tbody tr th:only-of-type {\n        vertical-align: middle;\n    }\n\n    .dataframe tbody tr th {\n        vertical-align: top;\n    }\n\n    .dataframe thead th {\n        text-align: right;\n    }\n</style>\n<table border=\"1\" class=\"dataframe\">\n  <thead>\n    <tr style=\"text-align: right;\">\n      <th></th>\n      <th>PC 1</th>\n      <th>PC 2</th>\n      <th>PC 3</th>\n    </tr>\n  </thead>\n  <tbody>\n    <tr>\n      <th>0</th>\n      <td>-0.343822</td>\n      <td>1.015453</td>\n      <td>-0.585893</td>\n    </tr>\n    <tr>\n      <th>2</th>\n      <td>-0.327150</td>\n      <td>1.015500</td>\n      <td>-0.586407</td>\n    </tr>\n    <tr>\n      <th>5</th>\n      <td>2.302348</td>\n      <td>1.625255</td>\n      <td>-0.637253</td>\n    </tr>\n    <tr>\n      <th>7</th>\n      <td>-0.139098</td>\n      <td>-1.276245</td>\n      <td>0.196302</td>\n    </tr>\n    <tr>\n      <th>8</th>\n      <td>-0.147640</td>\n      <td>-1.984634</td>\n      <td>0.407843</td>\n    </tr>\n  </tbody>\n</table>\n</div>"
     },
     "metadata": {},
     "execution_count": 154
    }
   ],
   "source": [
    "# Create a DataFrame with the principal components data\n",
    "pca_df = pd.DataFrame(\n",
    "    data=crypto_pca, columns=[\"PC 1\", \"PC 2\", \"PC 3\"], index=crypto_data.index\n",
    ")\n",
    "pca_df.head()"
   ]
  },
  {
   "cell_type": "markdown",
   "metadata": {},
   "source": [
    "### Clustering Crytocurrencies Using K-Means\n",
    "\n",
    "#### Find the Best Value for `k` Using the Elbow Curve"
   ]
  },
  {
   "cell_type": "code",
   "execution_count": 155,
   "metadata": {},
   "outputs": [
    {
     "output_type": "display_data",
     "data": {},
     "metadata": {}
    },
    {
     "output_type": "execute_result",
     "data": {
      "text/html": "<div id='1102'>\n\n\n\n\n\n  <div class=\"bk-root\" id=\"5a0a520f-3ddd-40eb-bc3a-e9b2c7d6d6b0\" data-root-id=\"1102\"></div>\n</div>\n<script type=\"application/javascript\">(function(root) {\n  function embed_document(root) {\n  var docs_json = {\"6f747590-821b-417b-945e-a891638ba9c7\":{\"roots\":{\"references\":[{\"attributes\":{},\"id\":\"1121\",\"type\":\"BasicTicker\"},{\"attributes\":{\"children\":[{\"id\":\"1103\"},{\"id\":\"1107\"},{\"id\":\"1166\"}],\"margin\":[0,0,0,0],\"name\":\"Row01734\",\"tags\":[\"embedded\"]},\"id\":\"1102\",\"type\":\"Row\"},{\"attributes\":{\"source\":{\"id\":\"1137\"}},\"id\":\"1144\",\"type\":\"CDSView\"},{\"attributes\":{\"end\":4000.0436035961648,\"reset_end\":4000.0436035961648,\"reset_start\":-247.90069603780893,\"start\":-247.90069603780893,\"tags\":[[[\"inertia\",\"inertia\",null]]]},\"id\":\"1105\",\"type\":\"Range1d\"},{\"attributes\":{\"text\":\"Elbow Visualization\",\"text_color\":{\"value\":\"black\"},\"text_font_size\":{\"value\":\"12pt\"}},\"id\":\"1108\",\"type\":\"Title\"},{\"attributes\":{},\"id\":\"1147\",\"type\":\"BasicTickFormatter\"},{\"attributes\":{},\"id\":\"1112\",\"type\":\"LinearScale\"},{\"attributes\":{\"callback\":null,\"renderers\":[{\"id\":\"1143\"}],\"tags\":[\"hv_created\"],\"tooltips\":[[\"k\",\"@{k}\"],[\"inertia\",\"@{inertia}\"]]},\"id\":\"1106\",\"type\":\"HoverTool\"},{\"attributes\":{\"bottom_units\":\"screen\",\"fill_alpha\":0.5,\"fill_color\":\"lightgrey\",\"left_units\":\"screen\",\"level\":\"overlay\",\"line_alpha\":1.0,\"line_color\":\"black\",\"line_dash\":[4,4],\"line_width\":2,\"right_units\":\"screen\",\"top_units\":\"screen\"},\"id\":\"1129\",\"type\":\"BoxAnnotation\"},{\"attributes\":{\"margin\":[5,5,5,5],\"name\":\"HSpacer01738\",\"sizing_mode\":\"stretch_width\"},\"id\":\"1103\",\"type\":\"Spacer\"},{\"attributes\":{},\"id\":\"1151\",\"type\":\"BasicTickFormatter\"},{\"attributes\":{\"axis_label\":\"Inertia\",\"bounds\":\"auto\",\"formatter\":{\"id\":\"1151\"},\"major_label_orientation\":\"horizontal\",\"ticker\":{\"id\":\"1121\"}},\"id\":\"1120\",\"type\":\"LinearAxis\"},{\"attributes\":{\"axis\":{\"id\":\"1116\"},\"grid_line_color\":null,\"ticker\":null},\"id\":\"1119\",\"type\":\"Grid\"},{\"attributes\":{\"end\":10.0,\"reset_end\":10.0,\"reset_start\":1.0,\"start\":1.0,\"tags\":[[[\"k\",\"k\",null]]]},\"id\":\"1104\",\"type\":\"Range1d\"},{\"attributes\":{\"data\":{\"inertia\":{\"__ndarray__\":\"HGqbsxh8rECPoMpZjFqjQGwJUmkpQZdAsTnBq+pjfUB//m1c8dlyQP/37wO8fW1AOCUOCPJMZ0DcdDowR0lkQHKpHu35RGBA5RtR8g6GWkA=\",\"dtype\":\"float64\",\"order\":\"little\",\"shape\":[10]},\"k\":[1,2,3,4,5,6,7,8,9,10]},\"selected\":{\"id\":\"1138\"},\"selection_policy\":{\"id\":\"1157\"}},\"id\":\"1137\",\"type\":\"ColumnDataSource\"},{\"attributes\":{},\"id\":\"1114\",\"type\":\"LinearScale\"},{\"attributes\":{\"axis_label\":\"Number of Clusters\",\"bounds\":\"auto\",\"formatter\":{\"id\":\"1147\"},\"major_label_orientation\":\"horizontal\",\"ticker\":{\"id\":\"1145\"}},\"id\":\"1116\",\"type\":\"LinearAxis\"},{\"attributes\":{\"axis\":{\"id\":\"1120\"},\"dimension\":1,\"grid_line_color\":null,\"ticker\":null},\"id\":\"1123\",\"type\":\"Grid\"},{\"attributes\":{},\"id\":\"1124\",\"type\":\"SaveTool\"},{\"attributes\":{\"line_alpha\":0.2,\"line_color\":\"#1f77b3\",\"line_width\":2,\"x\":{\"field\":\"k\"},\"y\":{\"field\":\"inertia\"}},\"id\":\"1142\",\"type\":\"Line\"},{\"attributes\":{},\"id\":\"1125\",\"type\":\"PanTool\"},{\"attributes\":{},\"id\":\"1126\",\"type\":\"WheelZoomTool\"},{\"attributes\":{\"overlay\":{\"id\":\"1129\"}},\"id\":\"1127\",\"type\":\"BoxZoomTool\"},{\"attributes\":{},\"id\":\"1128\",\"type\":\"ResetTool\"},{\"attributes\":{\"active_drag\":\"auto\",\"active_inspect\":\"auto\",\"active_multi\":null,\"active_scroll\":\"auto\",\"active_tap\":\"auto\",\"tools\":[{\"id\":\"1106\"},{\"id\":\"1124\"},{\"id\":\"1125\"},{\"id\":\"1126\"},{\"id\":\"1127\"},{\"id\":\"1128\"}]},\"id\":\"1130\",\"type\":\"Toolbar\"},{\"attributes\":{},\"id\":\"1138\",\"type\":\"Selection\"},{\"attributes\":{\"line_alpha\":0.1,\"line_color\":\"#1f77b3\",\"line_width\":2,\"x\":{\"field\":\"k\"},\"y\":{\"field\":\"inertia\"}},\"id\":\"1141\",\"type\":\"Line\"},{\"attributes\":{\"line_color\":\"#1f77b3\",\"line_width\":2,\"x\":{\"field\":\"k\"},\"y\":{\"field\":\"inertia\"}},\"id\":\"1140\",\"type\":\"Line\"},{\"attributes\":{\"margin\":[5,5,5,5],\"name\":\"HSpacer01739\",\"sizing_mode\":\"stretch_width\"},\"id\":\"1166\",\"type\":\"Spacer\"},{\"attributes\":{},\"id\":\"1157\",\"type\":\"UnionRenderers\"},{\"attributes\":{\"data_source\":{\"id\":\"1137\"},\"glyph\":{\"id\":\"1140\"},\"hover_glyph\":null,\"muted_glyph\":{\"id\":\"1142\"},\"nonselection_glyph\":{\"id\":\"1141\"},\"selection_glyph\":null,\"view\":{\"id\":\"1144\"}},\"id\":\"1143\",\"type\":\"GlyphRenderer\"},{\"attributes\":{\"ticks\":[1,2,3,4,5,6,7,8,9,10]},\"id\":\"1145\",\"type\":\"FixedTicker\"},{\"attributes\":{\"below\":[{\"id\":\"1116\"}],\"center\":[{\"id\":\"1119\"},{\"id\":\"1123\"}],\"left\":[{\"id\":\"1120\"}],\"margin\":null,\"min_border_bottom\":10,\"min_border_left\":10,\"min_border_right\":10,\"min_border_top\":10,\"plot_height\":300,\"plot_width\":700,\"renderers\":[{\"id\":\"1143\"}],\"sizing_mode\":\"fixed\",\"title\":{\"id\":\"1108\"},\"toolbar\":{\"id\":\"1130\"},\"x_range\":{\"id\":\"1104\"},\"x_scale\":{\"id\":\"1112\"},\"y_range\":{\"id\":\"1105\"},\"y_scale\":{\"id\":\"1114\"}},\"id\":\"1107\",\"subtype\":\"Figure\",\"type\":\"Plot\"}],\"root_ids\":[\"1102\"]},\"title\":\"Bokeh Application\",\"version\":\"2.1.1\"}};\n  var render_items = [{\"docid\":\"6f747590-821b-417b-945e-a891638ba9c7\",\"root_ids\":[\"1102\"],\"roots\":{\"1102\":\"5a0a520f-3ddd-40eb-bc3a-e9b2c7d6d6b0\"}}];\n  root.Bokeh.embed.embed_items_notebook(docs_json, render_items);\n  }\nif (root.Bokeh !== undefined) {\n    embed_document(root);\n  } else {\n    var attempts = 0;\n    var timer = setInterval(function(root) {\n      if (root.Bokeh !== undefined) {\n        clearInterval(timer);\n        embed_document(root);\n      } else if (document.readyState == \"complete\") {\n        attempts++;\n        if (attempts > 100) {\n          clearInterval(timer);\n          console.log(\"Bokeh: ERROR: Unable to run BokehJS code because BokehJS library is missing\");\n        }\n      }\n    }, 10, root)\n  }\n})(window);</script>",
      "application/vnd.holoviews_exec.v0+json": "",
      "text/plain": [
       ":Curve   [k]   (inertia)"
      ]
     },
     "metadata": {
      "application/vnd.holoviews_exec.v0+json": {
       "id": "1102"
      }
     },
     "execution_count": 155
    }
   ],
   "source": [
    "inertia = []\n",
    "k = list(range(1, 11))\n",
    "\n",
    "# Calculate the inertia for the range of k values\n",
    "for i in k:\n",
    "    km = KMeans(n_clusters=i, random_state=0)\n",
    "    km.fit(pca_df)\n",
    "    inertia.append(km.inertia_)\n",
    "\n",
    "# Create the Elbow Curve using hvPlot\n",
    "elbow_data = {\"k\": k, \"inertia\": inertia}\n",
    "df_elbow = pd.DataFrame(elbow_data)\n",
    "df_elbow.hvplot.line(x=\"k\", y=\"inertia\", xticks=k, title=\"Elbow Visualization\", xlabel=\"Number of Clusters\", ylabel=\"Inertia\")"
   ]
  },
  {
   "cell_type": "markdown",
   "metadata": {},
   "source": [
    "Running K-Means with `k=<your best value for k here>`"
   ]
  },
  {
   "cell_type": "code",
   "execution_count": 156,
   "metadata": {},
   "outputs": [
    {
     "output_type": "execute_result",
     "data": {
      "text/plain": [
       "  Algorithm ProofType  TotalCoinsMined TotalCoinSupply      PC 1      PC 2  \\\n",
       "0    Scrypt   PoW/PoS     4.199995e+01              42 -0.343822  1.015453   \n",
       "2    Scrypt   PoW/PoS     1.055185e+09       532000000 -0.327150  1.015500   \n",
       "5       X13   PoW/PoS     2.927942e+10    314159265359  2.302348  1.625255   \n",
       "7   SHA-256       PoW     1.792718e+07        21000000 -0.139098 -1.276245   \n",
       "8    Ethash       PoW     1.076842e+08               0 -0.147640 -1.984634   \n",
       "\n",
       "       PC 3  class   CoinName Algorithm ProofType  TotalCoinsMined  \\\n",
       "0 -0.585893      1    42 Coin    Scrypt   PoW/PoS     4.199995e+01   \n",
       "2 -0.586407      1    404Coin    Scrypt   PoW/PoS     1.055185e+09   \n",
       "5 -0.637253      1  EliteCoin       X13   PoW/PoS     2.927942e+10   \n",
       "7  0.196302      0    Bitcoin   SHA-256       PoW     1.792718e+07   \n",
       "8  0.407843      0   Ethereum    Ethash       PoW     1.076842e+08   \n",
       "\n",
       "  TotalCoinSupply  \n",
       "0              42  \n",
       "2       532000000  \n",
       "5    314159265359  \n",
       "7        21000000  \n",
       "8               0  "
      ],
      "text/html": "<div>\n<style scoped>\n    .dataframe tbody tr th:only-of-type {\n        vertical-align: middle;\n    }\n\n    .dataframe tbody tr th {\n        vertical-align: top;\n    }\n\n    .dataframe thead th {\n        text-align: right;\n    }\n</style>\n<table border=\"1\" class=\"dataframe\">\n  <thead>\n    <tr style=\"text-align: right;\">\n      <th></th>\n      <th>Algorithm</th>\n      <th>ProofType</th>\n      <th>TotalCoinsMined</th>\n      <th>TotalCoinSupply</th>\n      <th>PC 1</th>\n      <th>PC 2</th>\n      <th>PC 3</th>\n      <th>class</th>\n      <th>CoinName</th>\n      <th>Algorithm</th>\n      <th>ProofType</th>\n      <th>TotalCoinsMined</th>\n      <th>TotalCoinSupply</th>\n    </tr>\n  </thead>\n  <tbody>\n    <tr>\n      <th>0</th>\n      <td>Scrypt</td>\n      <td>PoW/PoS</td>\n      <td>4.199995e+01</td>\n      <td>42</td>\n      <td>-0.343822</td>\n      <td>1.015453</td>\n      <td>-0.585893</td>\n      <td>1</td>\n      <td>42 Coin</td>\n      <td>Scrypt</td>\n      <td>PoW/PoS</td>\n      <td>4.199995e+01</td>\n      <td>42</td>\n    </tr>\n    <tr>\n      <th>2</th>\n      <td>Scrypt</td>\n      <td>PoW/PoS</td>\n      <td>1.055185e+09</td>\n      <td>532000000</td>\n      <td>-0.327150</td>\n      <td>1.015500</td>\n      <td>-0.586407</td>\n      <td>1</td>\n      <td>404Coin</td>\n      <td>Scrypt</td>\n      <td>PoW/PoS</td>\n      <td>1.055185e+09</td>\n      <td>532000000</td>\n    </tr>\n    <tr>\n      <th>5</th>\n      <td>X13</td>\n      <td>PoW/PoS</td>\n      <td>2.927942e+10</td>\n      <td>314159265359</td>\n      <td>2.302348</td>\n      <td>1.625255</td>\n      <td>-0.637253</td>\n      <td>1</td>\n      <td>EliteCoin</td>\n      <td>X13</td>\n      <td>PoW/PoS</td>\n      <td>2.927942e+10</td>\n      <td>314159265359</td>\n    </tr>\n    <tr>\n      <th>7</th>\n      <td>SHA-256</td>\n      <td>PoW</td>\n      <td>1.792718e+07</td>\n      <td>21000000</td>\n      <td>-0.139098</td>\n      <td>-1.276245</td>\n      <td>0.196302</td>\n      <td>0</td>\n      <td>Bitcoin</td>\n      <td>SHA-256</td>\n      <td>PoW</td>\n      <td>1.792718e+07</td>\n      <td>21000000</td>\n    </tr>\n    <tr>\n      <th>8</th>\n      <td>Ethash</td>\n      <td>PoW</td>\n      <td>1.076842e+08</td>\n      <td>0</td>\n      <td>-0.147640</td>\n      <td>-1.984634</td>\n      <td>0.407843</td>\n      <td>0</td>\n      <td>Ethereum</td>\n      <td>Ethash</td>\n      <td>PoW</td>\n      <td>1.076842e+08</td>\n      <td>0</td>\n    </tr>\n  </tbody>\n</table>\n</div>"
     },
     "metadata": {},
     "execution_count": 156
    }
   ],
   "source": [
    "# Initialize the K-Means model\n",
    "model = KMeans(n_clusters=3, random_state=0)\n",
    "\n",
    "# Fit the model\n",
    "model.fit(pca_df)\n",
    "\n",
    "# Predict clusters\n",
    "predictions = model.predict(pca_df)\n",
    "\n",
    "# Create a new DataFrame including predicted clusters and cryptocurrencies features\n",
    "pca_df[\"class\"] = model.labels_\n",
    "\n",
    "\n",
    "clustered_df = pd.concat([crypto_data, pca_df, all_crypto_data], axis=1)\n",
    "clustered_df.head()"
   ]
  },
  {
   "cell_type": "markdown",
   "metadata": {},
   "source": [
    "### Visualizing Results\n",
    "\n",
    "#### 3D-Scatter with Clusters"
   ]
  },
  {
   "cell_type": "code",
   "execution_count": 157,
   "metadata": {},
   "outputs": [
    {
     "output_type": "display_data",
     "data": {},
     "metadata": {}
    },
    {
     "output_type": "execute_result",
     "data": {
      "text/html": "<div id='1203'>\n\n\n\n\n\n  <div class=\"bk-root\" id=\"5771c07b-63a6-4e02-80dd-0b34f92a9ac4\" data-root-id=\"1203\"></div>\n</div>\n<script type=\"application/javascript\">(function(root) {\n  function embed_document(root) {\n  var docs_json = {\"6302431d-d794-468d-bc71-a73c4eb0131f\":{\"roots\":{\"references\":[{\"attributes\":{\"fill_alpha\":{\"value\":0.2},\"fill_color\":{\"value\":\"#ff7e0e\"},\"line_alpha\":{\"value\":0.2},\"line_color\":{\"value\":\"#ff7e0e\"},\"size\":{\"units\":\"screen\",\"value\":5.477225575051661},\"x\":{\"field\":\"PC 1\"},\"y\":{\"field\":\"PC 2\"}},\"id\":\"1267\",\"type\":\"Scatter\"},{\"attributes\":{},\"id\":\"1228\",\"type\":\"PanTool\"},{\"attributes\":{\"fill_alpha\":{\"value\":0.1},\"fill_color\":{\"value\":\"#2ba02b\"},\"line_alpha\":{\"value\":0.1},\"line_color\":{\"value\":\"#2ba02b\"},\"size\":{\"units\":\"screen\",\"value\":5.477225575051661},\"x\":{\"field\":\"PC 1\"},\"y\":{\"field\":\"PC 2\"}},\"id\":\"1285\",\"type\":\"Scatter\"},{\"attributes\":{},\"id\":\"1227\",\"type\":\"SaveTool\"},{\"attributes\":{\"label\":{\"value\":\"1\"},\"renderers\":[{\"id\":\"1268\"}]},\"id\":\"1280\",\"type\":\"LegendItem\"},{\"attributes\":{},\"id\":\"1229\",\"type\":\"WheelZoomTool\"},{\"attributes\":{\"active_drag\":\"auto\",\"active_inspect\":\"auto\",\"active_multi\":null,\"active_scroll\":\"auto\",\"active_tap\":\"auto\",\"tools\":[{\"id\":\"1207\"},{\"id\":\"1227\"},{\"id\":\"1228\"},{\"id\":\"1229\"},{\"id\":\"1230\"},{\"id\":\"1231\"}]},\"id\":\"1233\",\"type\":\"Toolbar\"},{\"attributes\":{},\"id\":\"1224\",\"type\":\"BasicTicker\"},{\"attributes\":{\"overlay\":{\"id\":\"1232\"}},\"id\":\"1230\",\"type\":\"BoxZoomTool\"},{\"attributes\":{},\"id\":\"1231\",\"type\":\"ResetTool\"},{\"attributes\":{},\"id\":\"1241\",\"type\":\"BasicTickFormatter\"},{\"attributes\":{\"axis_label\":\"PC 1\",\"bounds\":\"auto\",\"formatter\":{\"id\":\"1241\"},\"major_label_orientation\":\"horizontal\",\"ticker\":{\"id\":\"1220\"}},\"id\":\"1219\",\"type\":\"LinearAxis\"},{\"attributes\":{\"click_policy\":\"mute\",\"items\":[{\"id\":\"1261\"},{\"id\":\"1280\"},{\"id\":\"1301\"}],\"location\":[0,0],\"title\":\"class\"},\"id\":\"1260\",\"type\":\"Legend\"},{\"attributes\":{},\"id\":\"1299\",\"type\":\"UnionRenderers\"},{\"attributes\":{},\"id\":\"1258\",\"type\":\"UnionRenderers\"},{\"attributes\":{\"axis_label\":\"PC 2\",\"bounds\":\"auto\",\"formatter\":{\"id\":\"1243\"},\"major_label_orientation\":\"horizontal\",\"ticker\":{\"id\":\"1224\"}},\"id\":\"1223\",\"type\":\"LinearAxis\"},{\"attributes\":{},\"id\":\"1278\",\"type\":\"UnionRenderers\"},{\"attributes\":{\"fill_alpha\":{\"value\":0.2},\"fill_color\":{\"value\":\"#1f77b3\"},\"line_alpha\":{\"value\":0.2},\"line_color\":{\"value\":\"#1f77b3\"},\"size\":{\"units\":\"screen\",\"value\":5.477225575051661},\"x\":{\"field\":\"PC 1\"},\"y\":{\"field\":\"PC 2\"}},\"id\":\"1249\",\"type\":\"Scatter\"},{\"attributes\":{\"fill_alpha\":{\"value\":0.1},\"fill_color\":{\"value\":\"#1f77b3\"},\"line_alpha\":{\"value\":0.1},\"line_color\":{\"value\":\"#1f77b3\"},\"size\":{\"units\":\"screen\",\"value\":5.477225575051661},\"x\":{\"field\":\"PC 1\"},\"y\":{\"field\":\"PC 2\"}},\"id\":\"1248\",\"type\":\"Scatter\"},{\"attributes\":{},\"id\":\"1245\",\"type\":\"Selection\"},{\"attributes\":{\"text\":\"\",\"text_color\":{\"value\":\"black\"},\"text_font_size\":{\"value\":\"12pt\"}},\"id\":\"1211\",\"type\":\"Title\"},{\"attributes\":{\"end\":35.57459084015802,\"reset_end\":35.57459084015802,\"reset_start\":-1.9981921435702978,\"start\":-1.9981921435702978,\"tags\":[[[\"PC 1\",\"PC 1\",null]]]},\"id\":\"1205\",\"type\":\"Range1d\"},{\"attributes\":{},\"id\":\"1243\",\"type\":\"BasicTickFormatter\"},{\"attributes\":{},\"id\":\"1220\",\"type\":\"BasicTicker\"},{\"attributes\":{},\"id\":\"1282\",\"type\":\"Selection\"},{\"attributes\":{\"margin\":[5,5,5,5],\"name\":\"HSpacer01972\",\"sizing_mode\":\"stretch_width\"},\"id\":\"1410\",\"type\":\"Spacer\"},{\"attributes\":{\"children\":[{\"id\":\"1204\"},{\"id\":\"1210\"},{\"id\":\"1410\"}],\"margin\":[0,0,0,0],\"name\":\"Row01967\",\"tags\":[\"embedded\"]},\"id\":\"1203\",\"type\":\"Row\"},{\"attributes\":{\"fill_color\":{\"value\":\"#1f77b3\"},\"line_color\":{\"value\":\"#1f77b3\"},\"size\":{\"units\":\"screen\",\"value\":5.477225575051661},\"x\":{\"field\":\"PC 1\"},\"y\":{\"field\":\"PC 2\"}},\"id\":\"1247\",\"type\":\"Scatter\"},{\"attributes\":{\"bottom_units\":\"screen\",\"fill_alpha\":0.5,\"fill_color\":\"lightgrey\",\"left_units\":\"screen\",\"level\":\"overlay\",\"line_alpha\":1.0,\"line_color\":\"black\",\"line_dash\":[4,4],\"line_width\":2,\"right_units\":\"screen\",\"top_units\":\"screen\"},\"id\":\"1232\",\"type\":\"BoxAnnotation\"},{\"attributes\":{\"data_source\":{\"id\":\"1281\"},\"glyph\":{\"id\":\"1284\"},\"hover_glyph\":null,\"muted_glyph\":{\"id\":\"1286\"},\"nonselection_glyph\":{\"id\":\"1285\"},\"selection_glyph\":null,\"view\":{\"id\":\"1288\"}},\"id\":\"1287\",\"type\":\"GlyphRenderer\"},{\"attributes\":{},\"id\":\"1263\",\"type\":\"Selection\"},{\"attributes\":{},\"id\":\"1217\",\"type\":\"LinearScale\"},{\"attributes\":{\"fill_alpha\":{\"value\":0.1},\"fill_color\":{\"value\":\"#ff7e0e\"},\"line_alpha\":{\"value\":0.1},\"line_color\":{\"value\":\"#ff7e0e\"},\"size\":{\"units\":\"screen\",\"value\":5.477225575051661},\"x\":{\"field\":\"PC 1\"},\"y\":{\"field\":\"PC 2\"}},\"id\":\"1266\",\"type\":\"Scatter\"},{\"attributes\":{\"end\":3.763968791394325,\"reset_end\":3.763968791394325,\"reset_start\":-3.3974605034076757,\"start\":-3.3974605034076757,\"tags\":[[[\"PC 2\",\"PC 2\",null]]]},\"id\":\"1206\",\"type\":\"Range1d\"},{\"attributes\":{\"data_source\":{\"id\":\"1262\"},\"glyph\":{\"id\":\"1265\"},\"hover_glyph\":null,\"muted_glyph\":{\"id\":\"1267\"},\"nonselection_glyph\":{\"id\":\"1266\"},\"selection_glyph\":null,\"view\":{\"id\":\"1269\"}},\"id\":\"1268\",\"type\":\"GlyphRenderer\"},{\"attributes\":{\"data\":{\"PC 1\":{\"__ndarray__\":\"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\",\"dtype\":\"float64\",\"order\":\"little\",\"shape\":[293]},\"PC 2\":{\"__ndarray__\":\"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\",\"dtype\":\"float64\",\"order\":\"little\",\"shape\":[293]},\"PC_1\":{\"__ndarray__\":\"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\",\"dtype\":\"float64\",\"order\":\"little\",\"shape\":[293]},\"PC_2\":{\"__ndarray__\":\"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\",\"dtype\":\"float64\",\"order\":\"little\",\"shape\":[293]},\"class\":{\"__ndarray__\":\"AQAAAAEAAAABAAAAAQAAAAEAAAABAAAAAQAAAAEAAAABAAAAAQAAAAEAAAABAAAAAQAAAAEAAAABAAAAAQAAAAEAAAABAAAAAQAAAAEAAAABAAAAAQAAAAEAAAABAAAAAQAAAAEAAAABAAAAAQAAAAEAAAABAAAAAQAAAAEAAAABAAAAAQAAAAEAAAABAAAAAQAAAAEAAAABAAAAAQAAAAEAAAABAAAAAQAAAAEAAAABAAAAAQAAAAEAAAABAAAAAQAAAAEAAAABAAAAAQAAAAEAAAABAAAAAQAAAAEAAAABAAAAAQAAAAEAAAABAAAAAQAAAAEAAAABAAAAAQAAAAEAAAABAAAAAQAAAAEAAAABAAAAAQAAAAEAAAABAAAAAQAAAAEAAAABAAAAAQAAAAEAAAABAAAAAQAAAAEAAAABAAAAAQAAAAEAAAABAAAAAQAAAAEAAAABAAAAAQAAAAEAAAABAAAAAQAAAAEAAAABAAAAAQAAAAEAAAABAAAAAQAAAAEAAAABAAAAAQAAAAEAAAABAAAAAQAAAAEAAAABAAAAAQAAAAEAAAABAAAAAQAAAAEAAAABAAAAAQAAAAEAAAABAAAAAQAAAAEAAAABAAAAAQAAAAEAAAABAAAAAQAAAAEAAAABAAAAAQAAAAEAAAABAAAAAQAAAAEAAAABAAAAAQAAAAEAAAABAAAAAQAAAAEAAAABAAAAAQAAAAEAAAABAAAAAQAAAAEAAAABAAAAAQAAAAEAAAABAAAAAQAAAAEAAAABAAAAAQAAAAEAAAABAAAAAQAAAAEAAAABAAAAAQAAAAEAAAABAAAAAQAAAAEAAAABAAAAAQAAAAEAAAABAAAAAQAAAAEAAAABAAAAAQAAAAEAAAABAAAAAQAAAAEAAAABAAAAAQAAAAEAAAABAAAAAQAAAAEAAAABAAAAAQAAAAEAAAABAAAAAQAAAAEAAAABAAAAAQAAAAEAAAABAAAAAQAAAAEAAAABAAAAAQAAAAEAAAABAAAAAQAAAAEAAAABAAAAAQAAAAEAAAABAAAAAQAAAAEAAAABAAAAAQAAAAEAAAABAAAAAQAAAAEAAAABAAAAAQAAAAEAAAABAAAAAQAAAAEAAAABAAAAAQAAAAEAAAABAAAAAQAAAAEAAAABAAAAAQAAAAEAAAABAAAAAQAAAAEAAAABAAAAAQAAAAEAAAABAAAAAQAAAAEAAAABAAAAAQAAAAEAAAABAAAAAQAAAAEAAAABAAAAAQAAAAEAAAABAAAAAQAAAAEAAAABAAAAAQAAAAEAAAABAAAAAQAAAAEAAAABAAAAAQAAAAEAAAABAAAAAQAAAAEAAAABAAAAAQAAAAEAAAABAAAAAQAAAAEAAAABAAAAAQAAAAEAAAABAAAAAQAAAAEAAAABAAAAAQAAAAEAAAABAAAAAQAAAAEAAAABAAAAAQAAAAEAAAABAAAAAQAAAAEAAAABAAAAAQAAAAEAAAABAAAAAQAAAAEAAAABAAAAAQAAAAEAAAABAAAAAQAAAAEAAAABAAAAAQAAAAEAAAA=\",\"dtype\":\"int32\",\"order\":\"little\",\"shape\":[293]}},\"selected\":{\"id\":\"1263\"},\"selection_policy\":{\"id\":\"1278\"}},\"id\":\"1262\",\"type\":\"ColumnDataSource\"},{\"attributes\":{\"fill_color\":{\"value\":\"#2ba02b\"},\"line_color\":{\"value\":\"#2ba02b\"},\"size\":{\"units\":\"screen\",\"value\":5.477225575051661},\"x\":{\"field\":\"PC 1\"},\"y\":{\"field\":\"PC 2\"}},\"id\":\"1284\",\"type\":\"Scatter\"},{\"attributes\":{\"fill_alpha\":{\"value\":0.2},\"fill_color\":{\"value\":\"#2ba02b\"},\"line_alpha\":{\"value\":0.2},\"line_color\":{\"value\":\"#2ba02b\"},\"size\":{\"units\":\"screen\",\"value\":5.477225575051661},\"x\":{\"field\":\"PC 1\"},\"y\":{\"field\":\"PC 2\"}},\"id\":\"1286\",\"type\":\"Scatter\"},{\"attributes\":{\"callback\":null,\"renderers\":[{\"id\":\"1250\"},{\"id\":\"1268\"},{\"id\":\"1287\"}],\"tags\":[\"hv_created\"],\"tooltips\":[[\"class\",\"@{class}\"],[\"PC 1\",\"@{PC_1}\"],[\"PC 2\",\"@{PC_2}\"]]},\"id\":\"1207\",\"type\":\"HoverTool\"},{\"attributes\":{},\"id\":\"1215\",\"type\":\"LinearScale\"},{\"attributes\":{\"source\":{\"id\":\"1281\"}},\"id\":\"1288\",\"type\":\"CDSView\"},{\"attributes\":{\"axis\":{\"id\":\"1219\"},\"grid_line_color\":null,\"ticker\":null},\"id\":\"1222\",\"type\":\"Grid\"},{\"attributes\":{\"source\":{\"id\":\"1262\"}},\"id\":\"1269\",\"type\":\"CDSView\"},{\"attributes\":{\"data\":{\"PC 1\":{\"__ndarray__\":\"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\",\"dtype\":\"float64\",\"order\":\"little\",\"shape\":[239]},\"PC 2\":{\"__ndarray__\":\"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\",\"dtype\":\"float64\",\"order\":\"little\",\"shape\":[239]},\"PC_1\":{\"__ndarray__\":\"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\",\"dtype\":\"float64\",\"order\":\"little\",\"shape\":[239]},\"PC_2\":{\"__ndarray__\":\"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\",\"dtype\":\"float64\",\"order\":\"little\",\"shape\":[239]},\"class\":{\"__ndarray__\":\"AAAAAAAAAAAAAAAAAAAAAAAAAAAAAAAAAAAAAAAAAAAAAAAAAAAAAAAAAAAAAAAAAAAAAAAAAAAAAAAAAAAAAAAAAAAAAAAAAAAAAAAAAAAAAAAAAAAAAAAAAAAAAAAAAAAAAAAAAAAAAAAAAAAAAAAAAAAAAAAAAAAAAAAAAAAAAAAAAAAAAAAAAAAAAAAAAAAAAAAAAAAAAAAAAAAAAAAAAAAAAAAAAAAAAAAAAAAAAAAAAAAAAAAAAAAAAAAAAAAAAAAAAAAAAAAAAAAAAAAAAAAAAAAAAAAAAAAAAAAAAAAAAAAAAAAAAAAAAAAAAAAAAAAAAAAAAAAAAAAAAAAAAAAAAAAAAAAAAAAAAAAAAAAAAAAAAAAAAAAAAAAAAAAAAAAAAAAAAAAAAAAAAAAAAAAAAAAAAAAAAAAAAAAAAAAAAAAAAAAAAAAAAAAAAAAAAAAAAAAAAAAAAAAAAAAAAAAAAAAAAAAAAAAAAAAAAAAAAAAAAAAAAAAAAAAAAAAAAAAAAAAAAAAAAAAAAAAAAAAAAAAAAAAAAAAAAAAAAAAAAAAAAAAAAAAAAAAAAAAAAAAAAAAAAAAAAAAAAAAAAAAAAAAAAAAAAAAAAAAAAAAAAAAAAAAAAAAAAAAAAAAAAAAAAAAAAAAAAAAAAAAAAAAAAAAAAAAAAAAAAAAAAAAAAAAAAAAAAAAAAAAAAAAAAAAAAAAAAAAAAAAAAAAAAAAAAAAAAAAAAAAAAAAAAAAAAAAAAAAAAAAAAAAAAAAAAAAAAAAAAAAAAAAAAAAAAAAAAAAAAAAAAAAAAAAAAAAAAAAAAAAAAAAAAAAAAAAAAAAAAAAAAAAAAAAAAAAAAAAAAAAAAAAAAAAAAAAAAAAAAAAAAAAAAAAAAAAAAAAAAAAAAAAAAAAAAAAAAAAAAAAAAAAAAAAAAAAAAAAAAAAAAAAAAAAAAAAAAAAAAAAAAAAAAAAAAAAAAAAAAAAAAAAAAAAAAAAAAAAAAAAAAAAAAAAAAAAAAAAAAAAAAAAAAAAAAAAAAAAAAAAAAAAAAAAAAAAAAAAAAAAAAAAAAAAAAAAAAAAAAAAAAAAAAAAAAAAAAAAAAAAAAAAAAAAAAAAAAAAAAAAAAAAAAAAAAAAAAAAAAAAAAAAAAAAAAAAAAAAAAAAAAAAAAAAAAAAAAAAAAAAAAAAAAAAAAAAAAAAAAAAAAAAAAAAAAAAAAAAAAAAAAAAAAAAAAAAAAAAAAAAAAAAAAAAAAAAAAAAAAAAAAAAAAAAAAAA=\",\"dtype\":\"int32\",\"order\":\"little\",\"shape\":[239]}},\"selected\":{\"id\":\"1245\"},\"selection_policy\":{\"id\":\"1258\"}},\"id\":\"1244\",\"type\":\"ColumnDataSource\"},{\"attributes\":{\"data\":{\"PC 1\":{\"__ndarray__\":\"ANFfybQLQUA=\",\"dtype\":\"float64\",\"order\":\"little\",\"shape\":[1]},\"PC 2\":{\"__ndarray__\":\"XQcf9aa2+D8=\",\"dtype\":\"float64\",\"order\":\"little\",\"shape\":[1]},\"PC_1\":{\"__ndarray__\":\"ANFfybQLQUA=\",\"dtype\":\"float64\",\"order\":\"little\",\"shape\":[1]},\"PC_2\":{\"__ndarray__\":\"XQcf9aa2+D8=\",\"dtype\":\"float64\",\"order\":\"little\",\"shape\":[1]},\"class\":{\"__ndarray__\":\"AgAAAA==\",\"dtype\":\"int32\",\"order\":\"little\",\"shape\":[1]}},\"selected\":{\"id\":\"1282\"},\"selection_policy\":{\"id\":\"1299\"}},\"id\":\"1281\",\"type\":\"ColumnDataSource\"},{\"attributes\":{\"margin\":[5,5,5,5],\"name\":\"HSpacer01971\",\"sizing_mode\":\"stretch_width\"},\"id\":\"1204\",\"type\":\"Spacer\"},{\"attributes\":{\"label\":{\"value\":\"2\"},\"renderers\":[{\"id\":\"1287\"}]},\"id\":\"1301\",\"type\":\"LegendItem\"},{\"attributes\":{\"fill_color\":{\"value\":\"#ff7e0e\"},\"line_color\":{\"value\":\"#ff7e0e\"},\"size\":{\"units\":\"screen\",\"value\":5.477225575051661},\"x\":{\"field\":\"PC 1\"},\"y\":{\"field\":\"PC 2\"}},\"id\":\"1265\",\"type\":\"Scatter\"},{\"attributes\":{\"below\":[{\"id\":\"1219\"}],\"center\":[{\"id\":\"1222\"},{\"id\":\"1226\"}],\"left\":[{\"id\":\"1223\"}],\"margin\":null,\"min_border_bottom\":10,\"min_border_left\":10,\"min_border_right\":10,\"min_border_top\":10,\"plot_height\":300,\"plot_width\":700,\"renderers\":[{\"id\":\"1250\"},{\"id\":\"1268\"},{\"id\":\"1287\"}],\"right\":[{\"id\":\"1260\"}],\"sizing_mode\":\"fixed\",\"title\":{\"id\":\"1211\"},\"toolbar\":{\"id\":\"1233\"},\"x_range\":{\"id\":\"1205\"},\"x_scale\":{\"id\":\"1215\"},\"y_range\":{\"id\":\"1206\"},\"y_scale\":{\"id\":\"1217\"}},\"id\":\"1210\",\"subtype\":\"Figure\",\"type\":\"Plot\"},{\"attributes\":{\"label\":{\"value\":\"0\"},\"renderers\":[{\"id\":\"1250\"}]},\"id\":\"1261\",\"type\":\"LegendItem\"},{\"attributes\":{\"source\":{\"id\":\"1244\"}},\"id\":\"1251\",\"type\":\"CDSView\"},{\"attributes\":{\"data_source\":{\"id\":\"1244\"},\"glyph\":{\"id\":\"1247\"},\"hover_glyph\":null,\"muted_glyph\":{\"id\":\"1249\"},\"nonselection_glyph\":{\"id\":\"1248\"},\"selection_glyph\":null,\"view\":{\"id\":\"1251\"}},\"id\":\"1250\",\"type\":\"GlyphRenderer\"},{\"attributes\":{\"axis\":{\"id\":\"1223\"},\"dimension\":1,\"grid_line_color\":null,\"ticker\":null},\"id\":\"1226\",\"type\":\"Grid\"}],\"root_ids\":[\"1203\"]},\"title\":\"Bokeh Application\",\"version\":\"2.1.1\"}};\n  var render_items = [{\"docid\":\"6302431d-d794-468d-bc71-a73c4eb0131f\",\"root_ids\":[\"1203\"],\"roots\":{\"1203\":\"5771c07b-63a6-4e02-80dd-0b34f92a9ac4\"}}];\n  root.Bokeh.embed.embed_items_notebook(docs_json, render_items);\n  }\nif (root.Bokeh !== undefined) {\n    embed_document(root);\n  } else {\n    var attempts = 0;\n    var timer = setInterval(function(root) {\n      if (root.Bokeh !== undefined) {\n        clearInterval(timer);\n        embed_document(root);\n      } else if (document.readyState == \"complete\") {\n        attempts++;\n        if (attempts > 100) {\n          clearInterval(timer);\n          console.log(\"Bokeh: ERROR: Unable to run BokehJS code because BokehJS library is missing\");\n        }\n      }\n    }, 10, root)\n  }\n})(window);</script>",
      "application/vnd.holoviews_exec.v0+json": "",
      "text/plain": [
       ":NdOverlay   [class]\n",
       "   :Scatter   [PC 1]   (PC 2,class)"
      ]
     },
     "metadata": {
      "application/vnd.holoviews_exec.v0+json": {
       "id": "1203"
      }
     },
     "execution_count": 157
    }
   ],
   "source": [
    "# Create a 3D-Scatter with the PCA data and the clusters\n",
    "pca_df.hvplot.scatter(\n",
    "    x=\"PC 1\",\n",
    "    y=\"PC 2\",\n",
    "    hover_cols=[\"class\"],\n",
    "    by=\"class\",\n",
    ")"
   ]
  },
  {
   "cell_type": "markdown",
   "metadata": {},
   "source": [
    "#### Table of Tradable Cryptocurrencies"
   ]
  },
  {
   "cell_type": "code",
   "execution_count": 158,
   "metadata": {},
   "outputs": [],
   "source": [
    "# Table with tradable cryptos\n"
   ]
  },
  {
   "cell_type": "code",
   "execution_count": 159,
   "metadata": {},
   "outputs": [],
   "source": [
    "# Print the total number of tradable cryptocurrencies\n"
   ]
  },
  {
   "cell_type": "markdown",
   "metadata": {},
   "source": [
    "#### Scatter Plot with Tradable Cryptocurrencies"
   ]
  },
  {
   "cell_type": "code",
   "execution_count": 160,
   "metadata": {},
   "outputs": [],
   "source": [
    "# Scale data to create the scatter plot\n"
   ]
  },
  {
   "cell_type": "code",
   "execution_count": 161,
   "metadata": {},
   "outputs": [],
   "source": [
    "# Plot the scatter with x=\"TotalCoinsMined\" and y=\"TotalCoinSupply\"\n"
   ]
  }
 ],
 "metadata": {
  "file_extension": ".py",
  "kernelspec": {
   "name": "python3",
   "display_name": "Python 3.7.7 64-bit ('pyvizenv': conda)",
   "metadata": {
    "interpreter": {
     "hash": "4c754cfb6133d0f5dd36241ee0e0459d57307058cb627744089646b0ca14559d"
    }
   }
  },
  "language_info": {
   "codemirror_mode": {
    "name": "ipython",
    "version": 3
   },
   "file_extension": ".py",
   "mimetype": "text/x-python",
   "name": "python",
   "nbconvert_exporter": "python",
   "pygments_lexer": "ipython3",
   "version": "3.7.7-final"
  },
  "mimetype": "text/x-python",
  "name": "python",
  "npconvert_exporter": "python",
  "pygments_lexer": "ipython3",
  "version": 3
 },
 "nbformat": 4,
 "nbformat_minor": 4
}